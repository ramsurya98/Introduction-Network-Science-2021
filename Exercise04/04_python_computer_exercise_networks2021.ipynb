{
  "cells": [
    {
      "cell_type": "markdown",
      "metadata": {
        "id": "8dswvCtEFv_J"
      },
      "source": [
        "<hr>\n",
        "<h1 style=\"font-weight:bold; text-align: center; margin: 0px; padding:0px;\">Network Science SS 2020</h1>\n",
        "<h1 style=\"font-weight:bold; text-align: center; margin: 0px; padding:0px;\">Python Computer Exercise 4</h1>\n",
        "<h1 style=\"font-weight:bold; text-align: center; margin: 0px; padding:0px;\">Percolation</h1>\n",
        "<hr>\n",
        "\n",
        "**Website:** http://www.thp.uni-koeln.de/witthaut/group.html\n",
        "\n",
        "\n",
        "**Submission:** Please upload your solutions to Ilias."
      ]
    },
    {
      "cell_type": "markdown",
      "source": [
        "#### **Pugazharasu Anancia Devaneyan**\n",
        "\n",
        "#### **Ram Surya Sri Shourie Mummadavarapu**"
      ],
      "metadata": {
        "id": "P18G4uv2Wwxe"
      }
    },
    {
      "cell_type": "markdown",
      "metadata": {
        "collapsed": true,
        "id": "5CQWbwK9Fv_O"
      },
      "source": [
        "## Percolation and the Giant Connected Component (GCC)\n",
        "\n",
        "The Giant Connected Component is, like the name suggests, the biggest connected component in a graph. Interestingly when studying this, we come across *percolation*, which is a phenomena existent across fields (e.g. propagation of forest fires, phase trasitions in Ising-like models). We want to use the notion of percolation to study the emergence of a GCC in Erdős–Rényi Random Graphs $G(n,p)$.\n",
        "\n",
        "To study percolation we need an algorithm that runs over the nodes and identifies if a certain set of nodes is part of a connected component. This is your task.\n",
        "\n",
        "Here is a mesmerising example of percolation of a 2D lattice. In this case you see percolation, i.e., most of the system is connected to each other (in black). <img src=\"https://upload.wikimedia.org/wikipedia/commons/f/f6/Percolation.gif\" alt=\"percolation of a 2D lattice\" width=\"200\" height=\"200\">"
      ]
    },
    {
      "cell_type": "markdown",
      "metadata": {
        "id": "IHMAZFl7Fv_P"
      },
      "source": [
        "## 1. Percolation in Random Graphs\n",
        "Our task is to design a method to identify the connected components in any graph $G$. Naturally the properties we want to study emerge in Erdős–Rényi Random Graphs $G(n,p)$.\n",
        "\n",
        "We know two things:\n",
        " - If $p=0$ ($G(n,0)$) we have a graph with $n$ vertices and no edges\n",
        " - If $p=1$ ($G(n,1)$) we have a graph with have a fully connected graph, i.e., everyone is connected to everyone (so the GCC is the graph).\n",
        "\n",
        "We have also seen, analytically, that if the *mean degree* $c < 1$ there is no GCC, and if $c > 1$, there should be a CGG with some relative size $s$, i.e., number of vertices in the GCC $n_{GCC}$ in comparison with $n$. We also have that the mean degree $c=\\frac{p}{n-1}$. Let's try and reproduce Newman's result below:\n",
        "\n",
        "![](https://cs.slu.edu/~esposito/teaching/1080/webscience/images/random-components-v2.jpg)\n",
        "\n",
        "### Tasks\n",
        "Make your own percolation algorithm:\n",
        "1. Design a method to identify which nodes are connected (you can check your results vs. `nx.number_connected_components()`)\n",
        "2. Design a method to find the size of all connected component\n",
        "3. Apply this to our case-study: Erdős–Rényi Random Graphs and study the largest/giant connected component\n",
        "4. Identify the transition (this implies iterating over graphs with changing $c$)\n",
        "\n",
        "Moreover, think about the following question:\n",
        " - Not in the thermodynamic limit ($n\\neq\\infty$), can you have a GCC with size $s=1$?"
      ]
    },
    {
      "cell_type": "code",
      "execution_count": null,
      "metadata": {
        "id": "YJ5quaGMFv_R"
      },
      "outputs": [],
      "source": [
        "import numpy as np\n",
        "import networkx as nx\n",
        "import matplotlib.pyplot as plt"
      ]
    },
    {
      "cell_type": "code",
      "execution_count": null,
      "metadata": {
        "id": "9ZE72FjYFv_U"
      },
      "outputs": [],
      "source": [
        "def connected_component_sizes(G):\n",
        "    adj = G.adj\n",
        "    a = set()\n",
        "    component_sizes = []\n",
        "    for v in G:\n",
        "        if v not in a:\n",
        "            b = set()\n",
        "            nl = {v}\n",
        "            while nl:\n",
        "              tl = nl\n",
        "              nl = set()\n",
        "              for k in tl:\n",
        "                if k not in b:\n",
        "                  b.add(k)\n",
        "                  nl.update(adj[k])\n",
        "            c = b\n",
        "            a.update(c)\n",
        "            component_sizes.append(c)\n",
        "    return component_sizes\n"
      ]
    },
    {
      "cell_type": "code",
      "source": [
        "# verification \n",
        "G = nx.path_graph(4)\n",
        "\n",
        "largest_cc1 = max(nx.connected_components(G), key=len)\n",
        "largest_cc2 = max(connected_component_sizes(G), key=len)\n",
        "print(largest_cc1, largest_cc2)"
      ],
      "metadata": {
        "colab": {
          "base_uri": "https://localhost:8080/"
        },
        "id": "2iKTQAKZP5Pn",
        "outputId": "c82d6021-16eb-41e5-9e69-48f1cbbc0252"
      },
      "execution_count": null,
      "outputs": [
        {
          "output_type": "stream",
          "name": "stdout",
          "text": [
            "{0, 1, 2, 3} {0, 1, 2, 3}\n"
          ]
        }
      ]
    },
    {
      "cell_type": "code",
      "execution_count": null,
      "metadata": {
        "id": "I27FAxxNFv_U"
      },
      "outputs": [],
      "source": [
        "# Design a function to iterate over various graphs that evaluates the size of the biggest component.\n",
        "# Recall: this is all statistical physics, so do a set of iterations over (res=50 like 50 iterations)\n",
        "# to get a statistically significant result.\n",
        "\n",
        "def GCC_size(N, res=50):\n",
        "  p = np.linspace(0, 1, res)\n",
        "  k = N*p\n",
        "  gcc = []\n",
        "  for i in p:\n",
        "    g = nx.erdos_renyi_graph(N, i)\n",
        "    ccList = connected_component_sizes(g)\n",
        "    gcc.append(max(len(cc) for cc in ccList))\n",
        "  return p, gcc"
      ]
    },
    {
      "cell_type": "code",
      "execution_count": null,
      "metadata": {
        "id": "rocQodaHFv_V"
      },
      "outputs": [],
      "source": [
        "# Get an array c and the (normalised) sizes S from GCC_size()\n",
        "c, S = GCC_size(N=75)"
      ]
    },
    {
      "cell_type": "code",
      "execution_count": null,
      "metadata": {
        "colab": {
          "base_uri": "https://localhost:8080/",
          "height": 297
        },
        "id": "7VL6zncRFv_W",
        "outputId": "17c1b605-4e50-4877-940f-10167efed051"
      },
      "outputs": [
        {
          "output_type": "execute_result",
          "data": {
            "text/plain": [
              "<matplotlib.legend.Legend at 0x7f4092883ad0>"
            ]
          },
          "metadata": {},
          "execution_count": 19
        },
        {
          "output_type": "display_data",
          "data": {
            "image/png": "[encoded data removed]",
            "text/plain": [
              "<Figure size 432x288 with 1 Axes>"
            ]
          },
          "metadata": {
            "needs_background": "light"
          }
        }
      ],
      "source": [
        "plt.plot(c, S, label='N=75')\n",
        "plt.xlabel(\"<k>=c\")\n",
        "plt.ylabel(\"S [relative size of GCC]\")\n",
        "plt.legend()"
      ]
    },
    {
      "cell_type": "markdown",
      "metadata": {
        "id": "T1W_QS6DFv_X"
      },
      "source": [
        "Here is a picture of a classy cat to brighten your day:\n",
        "![](https://i.stack.imgur.com/CnGo4.png)"
      ]
    }
  ],
  "metadata": {
    "@webio": {
      "lastCommId": "143fec47b45b49c3881a7d7ea601a84c",
      "lastKernelId": "4a2d3fd1-ce3d-4782-a973-1158449f88a2"
    },
    "kernelspec": {
      "display_name": "Python 3",
      "language": "python",
      "name": "python3"
    },
    "language_info": {
      "codemirror_mode": {
        "name": "ipython",
        "version": 3
      },
      "file_extension": ".py",
      "mimetype": "text/x-python",
      "name": "python",
      "nbconvert_exporter": "python",
      "pygments_lexer": "ipython3",
      "version": "3.7.0"
    },
    "colab": {
      "name": "04_python_computer_exercise_networks2021.ipynb",
      "provenance": []
    }
  },
  "nbformat": 4,
  "nbformat_minor": 0
}