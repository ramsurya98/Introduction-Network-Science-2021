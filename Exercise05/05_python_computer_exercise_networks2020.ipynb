{
 "cells": [
  {
   "cell_type": "markdown",
   "metadata": {},
   "source": [
    "<hr>\n",
    "<h1 style=\"font-weight:bold; text-align: center; margin: 0px; padding:0px;\">Network Science SS 2020</h1>\n",
    "<h1 style=\"font-weight:bold; text-align: center; margin: 0px; padding:0px;\">Python Computer Exercise 5</h1>\n",
    "<h1 style=\"font-weight:bold; text-align: center; margin: 0px; padding:0px;\">Epidemic Models</h1>\n",
    "<hr>\n",
    "\n",
    "**Website:** http://www.thp.uni-koeln.de/witthaut/group.html\n",
    "\n",
    "\n",
    "**Submission:** Please upload your solutions to Ilias."
   ]
  },
  {
   "cell_type": "markdown",
   "metadata": {
    "collapsed": true
   },
   "source": [
    "## The SIR-Model\n",
    "The SIR-model (susceptible-infected-removed model) is an epidemic model which seperates the population into three sub-populations: Susceptible (S), Infected (I) and Recovered/Removed (R) individuals. Susceptible individuals get ill with some rate $\\beta$ and Infected individuals recover or die with some rate $\\gamma$. In the SIR model recovered individuals are not able to get infected by the disease, again. Thus, for the model it does not make a difference if the individual dies or recovers.\n",
    "<img src=\"https://upload.wikimedia.org/wikipedia/commons/thumb/9/93/SIR_Flow_Diagram.svg/1920px-SIR_Flow_Diagram.svg.png\" alt=\"SIR model\" width=\"1000\" height=\"200\">\n",
    "This leads to the following ODE-system\n",
    "\n",
    "$$\n",
    "\\begin{align}\n",
    "    \\frac{dS}{dt} &= - \\beta \\frac{IS}{N},\\\\\n",
    "    \\frac{dI}{dt} &= \\beta \\frac{IS}{N} -\\gamma I,\\\\\n",
    "    \\frac{dR}{dt} &=  \\gamma I.\n",
    "\\end{align}\n",
    "$$\n",
    "\n",
    "The behavior of the dyanmics strongly depends on the ratio $R_0 = \\frac{\\beta}{\\gamma}$, the so called *basic reproduction number* (notice in class we denote $\\gamma$ as $\\alpha$, but there is no actual convention). This number describes how many individuals are infected per sick person. If $R_0 > 1$ an outbreak of the disease is called epidemic, if $R_0 < 1$ an outbreak of the disease is called endemic.\n",
    "\n"
   ]
  },
  {
   "cell_type": "markdown",
   "metadata": {},
   "source": [
    "## 1. SIR-model on Networks\n",
    "The model as it is written above does not use any information about the social behavior of individuals. For example, earlier in the lecture we learned that a social network follows a power-law distribution, i.e. that some nodes have a much higher degree than other. If an individual with a lot of social contacts (high degree) gets infected, this should change the bevior of the spreading. In this exercise we want to re-imagine an SIR type model on networks.\n",
    "\n",
    "Think about a population with $N$ individuals where some fraction of the population is infected with some disease. Now, consider that at each time step $t_i$ each infected individual infects his neighbors with a probability $\\beta$. There is also a probability $\\gamma$ for this individual to convalesce in this timestep. Repeat this process for some times.\n",
    "\n",
    "### Tasks\n",
    "Design the SIR models on a network.\n",
    "1. Choose a network generator algorithm. Which one makes the most sense for a social network?\n",
    "2. Implement SIR-like dynamics, as described above.\n",
    "3. To stop an epidemic we can vaccinate some portion of the population. Implement an option to vaccinate some portion (randomly chosen) of your population to the function. For the \"normal\" SIR model we have to vaccinate $1-1/R_0$ of the population to stop an epidemic. Is this similar for the networked SIR model? \n",
    "4. Now, vaccinate a portion of the population by chosing the individuals with high degree first. What does change?"
   ]
  },
  {
   "cell_type": "code",
   "execution_count": null,
   "metadata": {},
   "outputs": [],
   "source": [
    "import numpy as np\n",
    "import networkx as nx\n",
    "import matplotlib.pyplot as plt"
   ]
  },
  {
   "cell_type": "code",
   "execution_count": null,
   "metadata": {},
   "outputs": [],
   "source": [
    "def networked_SIR(G_, t_end, I_init, beta, gamma, p_vaccinated = 0.):\n",
    "\n",
    "    t_end = # total iteration number\n",
    "    I_init = # Initial infection percentage\n",
    "    beta = # beta\n",
    "    gamma = # gamma\n",
    "    p_vaccinated = 0. # percentage to vaccinate at start\n",
    "    \n",
    "    #initial condition\n",
    "    for ...\n",
    "        # infect and vaccinate some people!\n",
    "\n",
    "\n",
    "    for ... #iterate through t_end times\n",
    "\n",
    "            # Search through neigbors, infect and recover people...\n",
    "   \n",
    "    return ..."
   ]
  },
  {
   "cell_type": "code",
   "execution_count": null,
   "metadata": {},
   "outputs": [],
   "source": [
    "G = #Think about which networks make sense for social networks"
   ]
  },
  {
   "cell_type": "code",
   "execution_count": null,
   "metadata": {},
   "outputs": [],
   "source": [
    "#Plot your solutions!"
   ]
  },
  {
   "cell_type": "markdown",
   "metadata": {},
   "source": [
    "Here is a picture of a classy dog this time:\n",
    "![](https://i.pinimg.com/originals/8b/50/ab/8b50ab99f60d722456e9fdcc7e5daaad.jpg)"
   ]
  }
 ],
 "metadata": {
  "@webio": {
   "lastCommId": "143fec47b45b49c3881a7d7ea601a84c",
   "lastKernelId": "4a2d3fd1-ce3d-4782-a973-1158449f88a2"
  },
  "kernelspec": {
   "display_name": "Python 3",
   "language": "python",
   "name": "python3"
  },
  "language_info": {
   "codemirror_mode": {
    "name": "ipython",
    "version": 3
   },
   "file_extension": ".py",
   "mimetype": "text/x-python",
   "name": "python",
   "nbconvert_exporter": "python",
   "pygments_lexer": "ipython3",
   "version": "3.7.0"
  }
 },
 "nbformat": 4,
 "nbformat_minor": 1
}
