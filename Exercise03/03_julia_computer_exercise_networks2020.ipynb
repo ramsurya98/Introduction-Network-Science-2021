{
 "cells": [
  {
   "cell_type": "markdown",
   "metadata": {},
   "source": [
    "<hr>\n",
    "<h1 style=\"font-weight:bold; text-align: center; margin: 0px; padding:0px;\">Network Science SS 2020</h1>\n",
    "<h1 style=\"font-weight:bold; text-align: center; margin: 0px; padding:0px;\">Julia Computer Exercise 3</h1>\n",
    "<h1 style=\"font-weight:bold; text-align: center; margin: 0px; padding:0px;\">Communities & Centralities</h1>\n",
    "<hr>\n",
    "\n",
    "**Website:** http://www.thp.uni-koeln.de/witthaut/group.html\n",
    "\n",
    "\n",
    "**Submission:** Please upload your solutions to Ilias."
   ]
  },
  {
   "cell_type": "markdown",
   "metadata": {
    "collapsed": true
   },
   "source": [
    "## Communities & Centralities\n",
    "If the structure of a network is known, i.e., if we know its topology, how many nodes there are and how they are connected, it is possible to calculate a variety of quantities or measures that describe certain concepts of the network topology. One of those concepts are *network centralities* which assign each node (or edge) in the network a certain value according to some their \"importance\". The most straightforward centrality is the degree centrality which assigns each node a value according to their degree.\n",
    "\n",
    "There are several other centralities but in this exercise we focus on the*edge betweenes centrality*, which will allow us to detect communities in a network. \n",
    "\n",
    "A*community* is a set of nodes in a network that can be grouped into a set of preferential attachments to other nodes in the network. Maybe one of the most famous example where we can study communities is [*Zachary's Karate Club*](), which is discussed in delay in this paper by [Girvan & Newman](https://arxiv.org/pdf/cond-mat/0112110.pdf), whose algorithm we will try to implement here."
   ]
  },
  {
   "cell_type": "markdown",
   "metadata": {},
   "source": [
    "## 1. Girvan-Newman algorithm\n",
    "The Girvan-Newman algorithm is a community detection algorithm which makes use of the betweeness centrality.\n",
    "\n",
    "The betweeness centrality $g(v)$ of node $v$ is defined via the number of all shortest paths $\\sigma_{st}(v)$ from node $s$ to node $t$ through node $v$ divided by the number of all shortest paths in the graph $\\sigma_{st}$ from $s$ to $t$.\n",
    "$$\n",
    "g(v) = \\sum_{s \\neq v \\neq t} \\frac{\\sigma_{st}(v)}{\\sigma_{st}}\n",
    "$$\n",
    "It thus describes the potential of passersby of node $v$ of a random walker in a network. This property can be useful to determine a profitable location for a new shop in a city network for instance. In this exercise we will use it different, however. We can almost identically define the betweeness centrality $g(e)$ for edge $e$ as\n",
    "$$\n",
    "g(e) = \\sum_{s \\neq t} \\frac{\\sigma_{st}(e)}{\\sigma_{st}}.\n",
    "$$\n",
    "If a network contains communities which are only connected by a few edges, then all shortest paths between different communities must go along one of these few edges. Thus, the edges which connect two communities will have a high edge betweenness. By succesively removing edges with the highest edge betweenes and checking if the network is still globally connected we can thus detect communities. This is known as the *Girvan-Newman algorithm*.\n",
    "\n",
    "### Tasks\n",
    "Let us try and design the Girvan-Newman algorithm to detect communities:\n",
    "\n",
    "0. In this exercise NetworkX users have a slight advantage since the edge betweeness is already implemented there. If you want to stick with LightGraphs you will have to implement a function by yourself. Otherwise give networkX a try! You can do so with \"using PyCall; nx = pyimport(\"networkx\")\"\n",
    "1. Design a method to identify the edge with the highest edge betweenness.\n",
    "2. Remove this edge and iterate 1.-2.\n",
    "3. Design a stop condition that stops when you obtain two disconnected components.\n",
    "4. Test your algorithm on the famous Zachary's Katare Club. You can get the network with `G = nx.karate_club_graph()` (networkX) or `G = smallgraph(:karate)` (LightGraphs)."
   ]
  },
  {
   "cell_type": "code",
   "execution_count": 1,
   "metadata": {},
   "outputs": [
    {
     "data": {
      "text/plain": [
       "Girvan_Newman (generic function with 1 method)"
      ]
     },
     "execution_count": 1,
     "metadata": {},
     "output_type": "execute_result"
    }
   ],
   "source": [
    "function Girvan_Newman(G)\n",
    "   \n",
    "    # iterate until graph is disconnected\n",
    "    \n",
    "    # get the edge betweenness of the edges and\n",
    "    # find the edge with highest betweenness.\n",
    "    # remove it from the network\n",
    "       \n",
    "    # returns separated graph (graph has 2 disconnected components)\n",
    "    return G\n",
    "end"
   ]
  },
  {
   "cell_type": "code",
   "execution_count": null,
   "metadata": {},
   "outputs": [],
   "source": []
  }
 ],
 "metadata": {
  "@webio": {
   "lastCommId": "143fec47b45b49c3881a7d7ea601a84c",
   "lastKernelId": "4a2d3fd1-ce3d-4782-a973-1158449f88a2"
  },
  "kernelspec": {
   "display_name": "Julia 1.0.3",
   "language": "julia",
   "name": "julia-1.0"
  },
  "language_info": {
   "file_extension": ".jl",
   "mimetype": "application/julia",
   "name": "julia",
   "version": "1.0.3"
  }
 },
 "nbformat": 4,
 "nbformat_minor": 1
}
