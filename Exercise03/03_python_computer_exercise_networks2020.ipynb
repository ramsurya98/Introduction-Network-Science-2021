{
 "cells": [
  {
   "cell_type": "markdown",
   "metadata": {},
   "source": [
    "<hr>\n",
    "<h1 style=\"font-weight:bold; text-align: center; margin: 0px; padding:0px;\">Network Science SS 2020</h1>\n",
    "<h1 style=\"font-weight:bold; text-align: center; margin: 0px; padding:0px;\">Python Computer Exercise 3</h1>\n",
    "<h1 style=\"font-weight:bold; text-align: center; margin: 0px; padding:0px;\">Communities & Centralities</h1>\n",
    "<hr>\n",
    "\n",
    "**Website:** http://www.thp.uni-koeln.de/witthaut/group.html\n",
    "\n",
    "\n",
    "**Submission:** Please upload your solutions to Ilias."
   ]
  },
  {
   "cell_type": "markdown",
   "metadata": {
    "collapsed": true
   },
   "source": [
    "## Communities & Centralities\n",
    "If the structure of a network is known, i.e., if we know its topology, how many nodes there are and how they are connected, it is possible to calculate a variety of quantities or measures that describe certain concepts of the network topology. One of those concepts are *network centralities* which assign each node (or edge) in the network a certain value according to some their \"importance\". The most straightforward centrality is the degree centrality which assigns each node a value according to their degree.\n",
    "\n",
    "There are several other centralities but in this exercise we focus on the*edge betweenes centrality*, which will allow us to detect communities in a network. \n",
    "\n",
    "A*community* is a set of nodes in a network that can be grouped into a set of preferential attachments to other nodes in the network. Maybe one of the most famous example where we can study communities is [*Zachary's Karate Club*](), which is discussed in delay in this paper by [Girvan & Newman](https://arxiv.org/pdf/cond-mat/0112110.pdf), whose algorithm we will try to implement here."
   ]
  },
  {
   "cell_type": "markdown",
   "metadata": {},
   "source": [
    "## 1. Girvan-Newman algorithm\n",
    "The Girvan-Newman algorithm is a community detection algorithm which makes use of the betweeness centrality.\n",
    "\n",
    "The betweeness centrality $g(v)$ of node $v$ is defined via the number of all shortest paths $\\sigma_{st}(v)$ from node $s$ to node $t$ through node $v$ divided by the number of all shortest paths in the graph $\\sigma_{st}$ from $s$ to $t$.\n",
    "$$\n",
    "g(v) = \\sum_{s \\neq v \\neq t} \\frac{\\sigma_{st}(v)}{\\sigma_{st}}\n",
    "$$\n",
    "It thus describes the potential of passersby of node $v$ of a random walker in a network. This property can be useful to determine a profitable location for a new shop in a city network for instance. In this exercise we will use it different, however. We can almost identically define the betweeness centrality $g(e)$ for edge $e$ as\n",
    "$$\n",
    "g(e) = \\sum_{n \\neq e \\neq m} \\frac{\\sigma_{nm}(e)}{\\sigma_{nm}}.\n",
    "$$\n",
    "If a network contains communities which are only connected by a few edges, then all shortest paths between different communities must go along one of these few edges. Thus, the edges which connect two communities will have a high edge betweenness. By succesively removing edges with the highest edge betweenes and checking if the network is still globally connected we can thus detect communities. This is known as the *Girvan-Newman algorithm*.\n",
    "\n",
    "### Tasks\n",
    "Let us try and design the Girvan-Newman algorithm to detect communities:\n",
    "1. Design a method to identify the edge with the highest edge betweenness. You can use `networkx` `edge_betweenness`\n",
    "2. Remove this edge and iterate 1.-2.\n",
    "3. Design a stop condition that stops when you obtain two disconnected components.\n",
    "4. Test your algorithm on the famous Zachary's Katare Club. You can get the network with `G = nx.karate_club_graph()` (you can find more info [here](https://networkx.github.io/documentation/networkx-1.10/reference/generated/networkx.generators.social.karate_club_graph.html))"
   ]
  },
  {
   "cell_type": "code",
   "execution_count": null,
   "metadata": {},
   "outputs": [],
   "source": [
    "def GirvanNewman(G_):\n",
    "   \n",
    "    # get the edge betweenness of the edges and\n",
    "    # find the edge with highest betweenness.\n",
    "    # remove it from the network\n",
    "       \n",
    "    # returns separated graph (graph has 2 disconnected components)\n",
    "    return G_"
   ]
  },
  {
   "cell_type": "code",
   "execution_count": null,
   "metadata": {},
   "outputs": [],
   "source": [
    "# Here is a small plotter function, so you can see which edges were removed and the 2 different components\n",
    "# Just insert the original network G and your new separated network\n",
    "\n",
    "def plot_graph_difference(G, separated_G):\n",
    "    pos = nx.spring_layout(G)\n",
    "    nx.draw(G, pos = pos, with_labels=True)\n",
    "    nx.draw_networkx_edges(G, pos= pos, edgelist = list(nx.difference(G, separated_G).edges()),\n",
    "                           width=8, alpha=0.5, edge_color='r')\n",
    "    list(nx.difference(G, separated_G).nodes())\n",
    "    nx.draw_networkx_nodes(G,pos = pos, nodelist =  list(next(nx.connected_components(separated_G))),\n",
    "                           node_color='g')"
   ]
  },
  {
   "cell_type": "code",
   "execution_count": null,
   "metadata": {},
   "outputs": [],
   "source": [
    "plot_graph_difference(G, <insert your graph here>)"
   ]
  }
 ],
 "metadata": {
  "@webio": {
   "lastCommId": "143fec47b45b49c3881a7d7ea601a84c",
   "lastKernelId": "4a2d3fd1-ce3d-4782-a973-1158449f88a2"
  },
  "kernelspec": {
   "display_name": "Python 3",
   "language": "python",
   "name": "python3"
  },
  "language_info": {
   "codemirror_mode": {
    "name": "ipython",
    "version": 3
   },
   "file_extension": ".py",
   "mimetype": "text/x-python",
   "name": "python",
   "nbconvert_exporter": "python",
   "pygments_lexer": "ipython3",
   "version": "3.7.0"
  }
 },
 "nbformat": 4,
 "nbformat_minor": 1
}
