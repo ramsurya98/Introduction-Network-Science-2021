{
 "cells": [
  {
   "cell_type": "markdown",
   "metadata": {},
   "source": [
    "<hr>\n",
    "<h1 style=\"font-weight:bold; text-align: center; margin: 0px; padding:0px;\">Network Science SS 2020</h1>\n",
    "<h1 style=\"font-weight:bold; text-align: center; margin: 0px; padding:0px;\">Python Computer Exercise 3</h1>\n",
    "<h1 style=\"font-weight:bold; text-align: center; margin: 0px; padding:0px;\">Communities & Centralities</h1>\n",
    "<hr>\n",
    "\n",
    "**Website:** http://www.thp.uni-koeln.de/witthaut/group.html\n",
    "\n",
    "\n",
    "**Submission:** Please upload your solutions to Ilias."
   ]
  },
  {
   "cell_type": "markdown",
   "metadata": {
    "collapsed": true
   },
   "source": [
    "## Communities & Centralities\n",
    "If the structure of a network is known, i.e., if we know its topology, how many nodes there are and how they are connected, it is possible to calculate a variety of quantities or measures that describe certain concepts of the network topology. One of those concepts are *network centralities* which assign each node (or edge) in the network a certain value according to some their \"importance\". The most straightforward centrality is the degree centrality which assigns each node a value according to their degree.\n",
    "\n",
    "There are several other centralities but in this exercise we focus on the*edge betweenes centrality*, which will allow us to detect communities in a network. \n",
    "\n",
    "A*community* is a set of nodes in a network that can be grouped into a set of preferential attachments to other nodes in the network. Maybe one of the most famous example where we can study communities is [*Zachary's Karate Club*](), which is discussed in delay in this paper by [Girvan & Newman](https://arxiv.org/pdf/cond-mat/0112110.pdf), whose algorithm we will try to implement here."
   ]
  },
  {
   "cell_type": "markdown",
   "metadata": {},
   "source": [
    "## 1. Girvan-Newman algorithm\n",
    "The Girvan-Newman algorithm is a community detection algorithm which makes use of the betweeness centrality.\n",
    "\n",
    "The betweeness centrality $g(v)$ of node $v$ is defined via the number of all shortest paths $\\sigma_{st}(v)$ from node $s$ to node $t$ through node $v$ divided by the number of all shortest paths in the graph $\\sigma_{st}$ from $s$ to $t$.\n",
    "$$\n",
    "g(v) = \\sum_{s \\neq v \\neq t} \\frac{\\sigma_{st}(v)}{\\sigma_{st}}\n",
    "$$\n",
    "It thus describes the potential of passersby of node $v$ of a random walker in a network. This property can be useful to determine a profitable location for a new shop in a city network for instance. In this exercise we will use it different, however. We can almost identically define the betweeness centrality $g(e)$ for edge $e$ as\n",
    "$$\n",
    "g(e) = \\sum_{n \\neq e \\neq m} \\frac{\\sigma_{nm}(e)}{\\sigma_{nm}}.\n",
    "$$\n",
    "If a network contains communities which are only connected by a few edges, then all shortest paths between different communities must go along one of these few edges. Thus, the edges which connect two communities will have a high edge betweenness. By succesively removing edges with the highest edge betweenes and checking if the network is still globally connected we can thus detect communities. This is known as the *Girvan-Newman algorithm*.\n",
    "\n",
    "### Tasks\n",
    "Let us try and design the Girvan-Newman algorithm to detect communities:\n",
    "1. Design a method to identify the edge with the highest edge betweenness. You can use `networkx` `edge_betweenness`\n",
    "2. Remove this edge and iterate 1.-2.\n",
    "3. Design a stop condition that stops when you obtain two disconnected components.\n",
    "4. Test your algorithm on the famous Zachary's Katare Club. You can get the network with `G = nx.karate_club_graph()` (you can find more info [here](https://networkx.github.io/documentation/networkx-1.10/reference/generated/networkx.generators.social.karate_club_graph.html))"
   ]
  },
  {
   "cell_type": "code",
   "execution_count": 33,
   "metadata": {},
   "outputs": [],
   "source": [
    "import networkx as nx\n",
    "\n",
    "def GirvanNewman(G):\n",
    "    connected_comps  = nx.number_connected_components(G)\n",
    "    comps = connected_comps\n",
    "    while comps <= connected_comps:\n",
    "        betweeness = nx.edge_betweenness_centrality(G)\n",
    "        max_betweeness = max(betweeness.values())\n",
    "        #find the edge with the highest centrality and remove all of them if there is more than one!\n",
    "        for k, v in betweeness.items():\n",
    "            if float(v) == max_betweeness:\n",
    "                G.remove_edge(k[0],k[1])    #remove the central edge\n",
    "        ncomp = nx.number_connected_components(G)    #recalculate the no of components\n",
    "    # get the edge betweenness of the edges and\n",
    "    # find the edge with highest betweenness.\n",
    "    # remove it from the network\n",
    "       \n",
    "    # returns separated graph (graph has 2 disconnected components)\n",
    "    return G"
   ]
  },
  {
   "cell_type": "code",
   "execution_count": 34,
   "metadata": {},
   "outputs": [],
   "source": [
    "# Here is a small plotter function, so you can see which edges were removed and the 2 different components\n",
    "# Just insert the original network G and your new separated network\n",
    "def plot_graph_difference(G, separated_G):\n",
    "    pos = nx.spring_layout(G)\n",
    "    nx.draw(G, pos = pos, with_labels=True)\n",
    "    nx.draw_networkx_edges(G, pos= pos, edgelist = list(nx.difference(G, separated_G).edges()),\n",
    "                           width=8, alpha=0.5, edge_color='r')\n",
    "    list(nx.difference(G, separated_G).nodes())\n",
    "    nx.draw_networkx_nodes(G,pos = pos, nodelist =  list(next(nx.connected_components(separated_G))),\n",
    "                           node_color='g')"
   ]
  },
  {
   "cell_type": "code",
   "execution_count": 35,
   "metadata": {},
   "outputs": [
    {
     "ename": "ValueError",
     "evalue": "max() arg is an empty sequence",
     "output_type": "error",
     "traceback": [
      "\u001b[1;31m---------------------------------------------------------------------------\u001b[0m",
      "\u001b[1;31mValueError\u001b[0m                                Traceback (most recent call last)",
      "\u001b[1;32m~\\AppData\\Local\\Temp/ipykernel_3168/3581465059.py\u001b[0m in \u001b[0;36m<module>\u001b[1;34m\u001b[0m\n\u001b[0;32m      1\u001b[0m \u001b[0mG\u001b[0m \u001b[1;33m=\u001b[0m \u001b[0mnx\u001b[0m\u001b[1;33m.\u001b[0m\u001b[0mkarate_club_graph\u001b[0m\u001b[1;33m(\u001b[0m\u001b[1;33m)\u001b[0m\u001b[1;33m\u001b[0m\u001b[1;33m\u001b[0m\u001b[0m\n\u001b[1;32m----> 2\u001b[1;33m \u001b[0mseparated_G\u001b[0m \u001b[1;33m=\u001b[0m \u001b[0mGirvanNewman\u001b[0m\u001b[1;33m(\u001b[0m\u001b[0mG\u001b[0m\u001b[1;33m)\u001b[0m\u001b[1;33m\u001b[0m\u001b[1;33m\u001b[0m\u001b[0m\n\u001b[0m\u001b[0;32m      3\u001b[0m \u001b[0mplot_graph_difference\u001b[0m\u001b[1;33m(\u001b[0m\u001b[0mG\u001b[0m\u001b[1;33m,\u001b[0m \u001b[0mseparated_G\u001b[0m\u001b[1;33m)\u001b[0m\u001b[1;33m\u001b[0m\u001b[1;33m\u001b[0m\u001b[0m\n",
      "\u001b[1;32m~\\AppData\\Local\\Temp/ipykernel_3168/1070493318.py\u001b[0m in \u001b[0;36mGirvanNewman\u001b[1;34m(G)\u001b[0m\n\u001b[0;32m      6\u001b[0m     \u001b[1;32mwhile\u001b[0m \u001b[0mcomps\u001b[0m \u001b[1;33m<=\u001b[0m \u001b[0mconnected_comps\u001b[0m\u001b[1;33m:\u001b[0m\u001b[1;33m\u001b[0m\u001b[1;33m\u001b[0m\u001b[0m\n\u001b[0;32m      7\u001b[0m         \u001b[0mbetweeness\u001b[0m \u001b[1;33m=\u001b[0m \u001b[0mnx\u001b[0m\u001b[1;33m.\u001b[0m\u001b[0medge_betweenness_centrality\u001b[0m\u001b[1;33m(\u001b[0m\u001b[0mG\u001b[0m\u001b[1;33m)\u001b[0m\u001b[1;33m\u001b[0m\u001b[1;33m\u001b[0m\u001b[0m\n\u001b[1;32m----> 8\u001b[1;33m         \u001b[0mmax_betweeness\u001b[0m \u001b[1;33m=\u001b[0m \u001b[0mmax\u001b[0m\u001b[1;33m(\u001b[0m\u001b[0mbetweeness\u001b[0m\u001b[1;33m.\u001b[0m\u001b[0mvalues\u001b[0m\u001b[1;33m(\u001b[0m\u001b[1;33m)\u001b[0m\u001b[1;33m)\u001b[0m\u001b[1;33m\u001b[0m\u001b[1;33m\u001b[0m\u001b[0m\n\u001b[0m\u001b[0;32m      9\u001b[0m         \u001b[1;31m#find the edge with the highest centrality and remove all of them if there is more than one!\u001b[0m\u001b[1;33m\u001b[0m\u001b[1;33m\u001b[0m\u001b[0m\n\u001b[0;32m     10\u001b[0m         \u001b[1;32mfor\u001b[0m \u001b[0mk\u001b[0m\u001b[1;33m,\u001b[0m \u001b[0mv\u001b[0m \u001b[1;32min\u001b[0m \u001b[0mbetweeness\u001b[0m\u001b[1;33m.\u001b[0m\u001b[0mitems\u001b[0m\u001b[1;33m(\u001b[0m\u001b[1;33m)\u001b[0m\u001b[1;33m:\u001b[0m\u001b[1;33m\u001b[0m\u001b[1;33m\u001b[0m\u001b[0m\n",
      "\u001b[1;31mValueError\u001b[0m: max() arg is an empty sequence"
     ]
    }
   ],
   "source": [
    "G = nx.karate_club_graph()\n",
    "separated_G = GirvanNewman(G)\n",
    "plot_graph_difference(G, separated_G)"
   ]
  },
  {
   "cell_type": "code",
   "execution_count": 32,
   "metadata": {},
   "outputs": [
    {
     "name": "stdout",
     "output_type": "stream",
     "text": [
      "{(0, 1): 0.025252525252525245, (0, 2): 0.0777876807288572, (0, 3): 0.02049910873440285, (0, 4): 0.0522875816993464, (0, 5): 0.07813428401663694, (0, 6): 0.07813428401663695, (0, 7): 0.0228206434088787, (0, 8): 0.07423959482783014, (0, 10): 0.0522875816993464, (0, 11): 0.058823529411764705, (0, 12): 0.04652406417112298, (0, 13): 0.04237189825425121, (0, 17): 0.04012392835922248, (0, 19): 0.045936960642843, (0, 21): 0.040123928359222474, (0, 31): 0.1272599949070537, (1, 2): 0.023232323232323233, (1, 3): 0.0077243018419489, (1, 7): 0.007422969187675069, (1, 13): 0.01240556828792123, (1, 17): 0.01869960105254222, (1, 19): 0.014633732280791102, (1, 21): 0.01869960105254222, (1, 30): 0.032280791104320514, (2, 3): 0.022430184194890075, (2, 7): 0.025214328155504617, (2, 8): 0.009175791528732704, (2, 9): 0.030803836686189627, (2, 13): 0.007630931160342923, (2, 27): 0.04119203236850296, (2, 28): 0.02278244631185807, (2, 32): 0.06898678663384543, (3, 7): 0.003365588659706307, (3, 12): 0.012299465240641705, (3, 13): 0.01492233256939139, (4, 6): 0.0047534165181224, (4, 10): 0.0029708853238265, (5, 6): 0.0029708853238265003, (5, 10): 0.0047534165181224, (5, 16): 0.029411764705882353, (6, 16): 0.029411764705882353, (8, 30): 0.00980392156862745, (8, 32): 0.0304416716181422, (8, 33): 0.04043657867187279, (9, 33): 0.029615482556659026, (13, 33): 0.06782389723566191, (14, 32): 0.024083977025153497, (14, 33): 0.03473955238661121, (15, 32): 0.024083977025153497, (15, 33): 0.03473955238661121, (18, 32): 0.024083977025153497, (18, 33): 0.03473955238661121, (19, 33): 0.05938233879410351, (20, 32): 0.024083977025153497, (20, 33): 0.03473955238661121, (22, 32): 0.024083977025153493, (22, 33): 0.03473955238661121, (23, 25): 0.019776193305605066, (23, 27): 0.010536739948504653, (23, 29): 0.00665478312537136, (23, 32): 0.022341057635175278, (23, 33): 0.03266983561101209, (24, 25): 0.0042186571598336305, (24, 27): 0.018657159833630418, (24, 31): 0.040106951871657755, (25, 31): 0.04205783323430383, (26, 29): 0.004532722179781003, (26, 33): 0.0542908072319837, (27, 33): 0.030477039300568713, (28, 31): 0.0148544266191325, (28, 33): 0.024564977506153975, (29, 32): 0.023328523328523323, (29, 33): 0.029807882749059215, (30, 32): 0.01705288175876411, (30, 33): 0.02681436210847975, (31, 32): 0.04143394731630026, (31, 33): 0.05339388280564752, (32, 33): 0.008225108225108224}\n",
      "0.1272599949070537\n"
     ]
    }
   ],
   "source": [
    "import networkx as nx\n",
    "\n",
    "G = nx.karate_club_graph()\n",
    "betweeness = nx.edge_betweenness_centrality(G)\n",
    "print(betweeness)\n",
    "max_betweeness = max(betweeness.values())\n",
    "print(max_betweeness)"
   ]
  }
 ],
 "metadata": {
  "@webio": {
   "lastCommId": "143fec47b45b49c3881a7d7ea601a84c",
   "lastKernelId": "4a2d3fd1-ce3d-4782-a973-1158449f88a2"
  },
  "interpreter": {
   "hash": "d46c9e3c6e30d6287ebc2929c016221222415bb2a12daa6ac3e538e4d98edda9"
  },
  "kernelspec": {
   "display_name": "Python 3.9.9 64-bit (windows store)",
   "name": "python3"
  },
  "language_info": {
   "codemirror_mode": {
    "name": "ipython",
    "version": 3
   },
   "file_extension": ".py",
   "mimetype": "text/x-python",
   "name": "python",
   "nbconvert_exporter": "python",
   "pygments_lexer": "ipython3",
   "version": "3.9.9"
  }
 },
 "nbformat": 4,
 "nbformat_minor": 1
}
