{
  "nbformat": 4,
  "nbformat_minor": 0,
  "metadata": {
    "kernelspec": {
      "display_name": "Python 3",
      "language": "python",
      "name": "python3"
    },
    "language_info": {
      "codemirror_mode": {
        "name": "ipython",
        "version": 3
      },
      "file_extension": ".py",
      "mimetype": "text/x-python",
      "name": "python",
      "nbconvert_exporter": "python",
      "pygments_lexer": "ipython3",
      "version": "3.7.0"
    },
    "colab": {
      "name": "NetworksExercise_01.ipynb",
      "provenance": [],
      "collapsed_sections": [],
      "include_colab_link": true
    }
  },
  "cells": [
    {
      "cell_type": "markdown",
      "metadata": {
        "id": "view-in-github",
        "colab_type": "text"
      },
      "source": [
        "<a href=\"https://colab.research.google.com/github/ramsurya98/Introduction-Network-Science-2021/blob/main/Exercise01/NetworksExercise_01.ipynb\" target=\"_parent\"><img src=\"https://colab.research.google.com/assets/colab-badge.svg\" alt=\"Open In Colab\"/></a>"
      ]
    },
    {
      "cell_type": "markdown",
      "metadata": {
        "id": "hGdWC9cWz_8m"
      },
      "source": [
        "<hr>\n",
        "<h1 style=\"font-weight:bold; text-align: center; margin: 0px; padding:0px;\">Network Science SS 2020</h1>\n",
        "<h1 style=\"font-weight:bold; text-align: center; margin: 0px; padding:0px;\">Computer Exercise 1</h1>\n",
        "<h1 style=\"font-weight:bold; text-align: center; margin: 0px; padding:0px;\">Python</h1>\n",
        "<hr>\n",
        "\n",
        "**Website:** http://www.thp.uni-koeln.de/witthaut/group.html\n",
        "\n",
        "\n",
        "**Submission:** Please upload your solutions to Ilias."
      ]
    },
    {
      "cell_type": "markdown",
      "metadata": {
        "id": "iEraP-8oz_8z"
      },
      "source": [
        "## Networks Package\n",
        "To study and visualise networks, the python community developed networkX. It is generally the simplest python tool to create, plot, and study any type of graph. If you have used Anaconda to install your python, networkx should be included already, so you should be able to directly use it. If not, you need to `pip install networkx`\n",
        "\n",
        "The aim of this exercise is to get a feeling for working with the network packages. At the end of this exercise you will be able to compute the Laplacian matrix and the shortest-path distance in arbitrary graphs."
      ]
    },
    {
      "cell_type": "markdown",
      "metadata": {
        "id": "t4wr1M6zz_81"
      },
      "source": [
        "## 1.Random Graphs\n",
        "An undirected simple graph is a pair $G(V,E)$, where $V$ is a set of $n$ vertices (or nodes) and $E$ is a set of $m$ edges. In a directed graph the edges $E$ are oriented.\n",
        "\n",
        "Using `networkx`: Write a function that creates an undirected simple graph with $N$ nodes which are randomly connected by $M$ edges (no self-edges). Repeat for a directed graph. What is the maximal amount of edges $M$ in both types of graphs?\n",
        "\n",
        "For further guidance, you can find the `networkx` tutorial here: https://networkx.github.io/documentation/latest/tutorial.html"
      ]
    },
    {
      "cell_type": "code",
      "metadata": {
        "id": "4qLDOTTRz_82"
      },
      "source": [
        "# Import NetworkX \n",
        "import networkx as nx\n",
        "\n",
        "# import numpy to generate random numbers\n",
        "import numpy as np\n",
        "\n",
        "def random_graph(N, M):\n",
        "    G = nx.Graph() # Creates an empty simple graph \n",
        "    \n",
        "    #Check N and M for consistency. Think about a termination condition. \n",
        "    maxedges = N*(N-1)/2\n",
        "    if M > maxedges:\n",
        "      return \"M value is more than the maximum allowed edges\"\n",
        "    \n",
        "    # Here are a list of functions that might help:\n",
        "    # Add a node, numbered 1: G.add_node(1)\n",
        "    # Add a list of nodes: G.add_nodes_from([1,2,3])\n",
        "    # Add an edge between two nodes numbered 1 and 2: G.add_edge(1,2)\n",
        "    # Add a list of edges: G.add_edges_from([(1,2), ...])\n",
        "    node_list = range(1, N+1)\n",
        "    G.add_nodes_from(node_list)        \n",
        "    \n",
        "    while G.number_of_edges() <= M-1: \n",
        "        # Iterate until graph G has M edges. number_of_edges() is a list that gives the number of edges in G.\n",
        "        # Add random edges while the total number of edges is smaller than M.\n",
        "        \n",
        "        edge_list  = [(np.random.choice(node_list), np.random.choice(node_list))]\n",
        "        G.add_edges_from(edge_list)\n",
        "        \n",
        "        # Do not allow self-edges!\n",
        "        G.remove_edges_from(nx.selfloop_edges(G))\n",
        "\n",
        "    \n",
        "    return G\n",
        "    \n",
        "    \n",
        "def random_di_graph(N, M):\n",
        "    G = nx.DiGraph()\n",
        "    \n",
        "    # Same idea as above, but for a directed graph.\n",
        "    # Check N and M for consistency. Think about a termination condition. It is different to the one above.\n",
        "    max_edges = N*(N-1)\n",
        "    if M > max_edges:\n",
        "      return \"M value is more than the maximum allowed edges\" \n",
        "\n",
        "    node_list = range(1, N+1)\n",
        "    G.add_nodes_from(edge_list)\n",
        "\n",
        "    # Add random edges while the total number of edges is smaller than M.\n",
        "    while G.number_of_edges() <= M-1:\n",
        "      edge_list  = [(np.random.choice(node_list), np.random.choice(node_list))]\n",
        "      G.add_edges_from(edge_list)\n",
        "      G.remove_edges_from(nx.selfloop_edges(G))\n",
        "\n",
        "    return G\n",
        "\n",
        "\n",
        "# You can call you functions with \n",
        "#G = random_graph(N, M)\n",
        "# You can plot you graphs by using\n",
        "#nx.draw(G, with_labels=True)"
      ],
      "execution_count": 1,
      "outputs": []
    },
    {
      "cell_type": "markdown",
      "metadata": {
        "id": "OexLlE6Qz_87"
      },
      "source": [
        "Don't forge to add a condition to each function that should answer: *What is the maximal amount of edges 𝑀 in both types of graphs?*"
      ]
    },
    {
      "cell_type": "markdown",
      "metadata": {
        "id": "4vfu4zsuz_8-"
      },
      "source": [
        "## 2. Adjacency, Degree and Laplacian Matrix\n",
        "The adjacency matrix $A$, the degree matrix $D$ and the Laplacian matrix $L$ are defined as\n",
        "$$ \\begin{align} \n",
        "    \\mathbf{D}_{ij} &= \n",
        "    \\begin{cases}\n",
        "        \\text{deg}(v_i) & i = j \\\\\n",
        "        0 & \\, \\text{else}\n",
        "    \\end{cases}\\\\\n",
        "    \\mathbf{A}_{ij} &= \n",
        "    \\begin{cases}\n",
        "        1 & (i,j) \\in \\text{edge}\\\\\n",
        "        0 & \\, \\text{else}\n",
        "    \\end{cases}\\\\\n",
        "    \\mathbf{L}_{ij} &= \\mathbf{D}_{ij} - \\mathbf{A}_{ij} = \n",
        "    \\begin{cases}\n",
        "        \\text{deg}(v_i) & i = j \\\\\n",
        "        -1 & (i,j) \\in \\text{edge} \\\\\n",
        "        0 & \\, \\text{else}\n",
        "    \\end{cases}\n",
        "\\end{align} $$\n",
        "Write a function that computes $A$, $D$, and $L$. Be extra careful of the degree and the adjacency matrix when switching from simple to directed graph. Why are the adjacency and the laplacian matrix not symmetric for directed graphs?\n",
        "\n",
        "There exist pre-written functions for these matrices. Compare."
      ]
    },
    {
      "cell_type": "code",
      "metadata": {
        "id": "gmhcR8KJz_8_"
      },
      "source": [
        "def my_adjacency_matrix(G):\n",
        "    A = np.zeros([G.number_of_nodes(), G.number_of_nodes()]) # Create a matrix of zeros. \n",
        "    \n",
        "    # Fill the adjacency matrix with ones at the correct position.\n",
        "    # The command G.has_edge(i, j) which checks if graph g has an edge (i,j), may be useful here.\n",
        "    for i in range(G.number_of_nodes()):\n",
        "      for j in range(G.number_of_edges()):\n",
        "\n",
        "        if G.has_edge(i, j):\n",
        "          A[i, j] = 1\n",
        "\n",
        "        else:\n",
        "          A[i,j] = 0\n",
        "\n",
        "    return A\n",
        "\n",
        "\n",
        "def my_degree_matrix(G):\n",
        "    D = np.zeros([G.number_of_nodes(), G.number_of_nodes()]) # Create a matrix of zeros. \n",
        "    \n",
        "    # Fill degree matrix. G.degree(i), which gives the degree of node i, may be useful here.\n",
        "    for i in range(G.number_of_nodes()):\n",
        "      for j in range(G.number_of_edges()):\n",
        "        if i == j:\n",
        "          D[i, j] = G.degree(i)\n",
        "\n",
        "        else:\n",
        "          D[i, j] = 0  \n",
        "    \n",
        "    return D\n",
        "\n",
        "\n",
        "def my_laplacian_matrix(G):\n",
        "    L = np.zeros([G.number_of_nodes(), G.number_of_nodes()])\n",
        "    A = my_adjacency_matrix(G)\n",
        "    D = my_degree_matrix(G)\n",
        "    \n",
        "    # Create L.\n",
        "    for i in range(G.number_of_nodes()):\n",
        "      for j in range(G.number_of_edges()):\n",
        "        L[i,j] = D[i, j] - A[i, j]\n",
        "    \n",
        "    return L\n"
      ],
      "execution_count": null,
      "outputs": []
    },
    {
      "cell_type": "markdown",
      "metadata": {
        "id": "Q7bSJknez_9A"
      },
      "source": [
        "## 3. Breadth-first search"
      ]
    },
    {
      "cell_type": "markdown",
      "metadata": {
        "id": "UbgzUKu9z_9B"
      },
      "source": [
        "Breadth-first search (BFS) is an algorithm to search through a graph $G$. After choosing one starting node $V$, the algorithm travereses the graph until it finished the whole graph or until it finds a selected termination node. With this algorithm it is possible to build a shortest-path tree of graph $G$. A shortest-path tree is a spanning tree $T$ of $G$ (a graph with no loops) rooted a vertex $V$, such that the path distance from $V$ to any other node $U$ is the shortest-path distance from $V$ to $U$.\n",
        "\n",
        "Implement BFS for the random graph you built in exercise 1, s.t. you can output its shortest-path tree. What problems occur if you would implement (you don't have to do that) BFS for weighted graphs?"
      ]
    },
    {
      "cell_type": "code",
      "metadata": {
        "id": "shtJowKcz_9C"
      },
      "source": [
        "def BFS(G, start_node):\n",
        "    # G is the graph you are studying and start_node is the starting node\n",
        "    \n",
        "    queue = [start_node]   # Initialise queue.\n",
        "    visited = [start_node]   # Initialise which vertices were visited.\n",
        "    \n",
        "    shortest_path_tree = nx.Graph()   # This will be our shortest path tree.\n",
        "    \n",
        "    shortest_path_tree.add_nodes_from(G.nodes)   # We copy only the nodes, not the edges\n",
        "    \n",
        "    while len(queue) > 0:   # Iterate through queue until there is no node left.\n",
        "        # Iterate through neighbors of first queue entry.\n",
        "        for i in G[queue]:\n",
        "          if i not in visited:\n",
        "            queue.append(i)\n",
        "            visited.append(i)\n",
        "            shortest_path_tree.add_edge([(queue, i)])\n",
        "\n",
        "          queue.pop(0)    \n",
        "        \n",
        "            # Check if neighbour was already visited. If not:\n",
        "                # Add neighbour to queue.\n",
        "                # Add neighbour to visited.\n",
        "                # Add corresponding edge to shortest_path_tree. Use add_edge!(g, i,j).\n",
        "\n",
        "        \n",
        "        # Delete first queue entry. use pop(0) for example.\n",
        "\n",
        "    return shortest_path_tree\n",
        "\n",
        "# You can plot you graphs by using\n",
        "#nx.draw(G, with_labels=True)"
      ],
      "execution_count": null,
      "outputs": []
    }
  ]
}